{
 "cells": [
  {
   "cell_type": "code",
   "execution_count": 2,
   "id": "dae9f19a",
   "metadata": {},
   "outputs": [],
   "source": [
    "import pandas as pd\n",
    "import numpy as np\n",
    "import matplotlib.pyplot as plt\n",
    "import seaborn as sns"
   ]
  },
  {
   "cell_type": "code",
   "execution_count": 4,
   "id": "0d682fd4",
   "metadata": {},
   "outputs": [],
   "source": [
    "air = pd.read_csv('dataset/airpassenger.csv')"
   ]
  },
  {
   "cell_type": "code",
   "execution_count": 5,
   "id": "d96b3b6d",
   "metadata": {},
   "outputs": [
    {
     "data": {
      "application/vnd.microsoft.datawrangler.viewer.v0+json": {
       "columns": [
        {
         "name": "index",
         "rawType": "int64",
         "type": "integer"
        },
        {
         "name": "DATAFLOW",
         "rawType": "object",
         "type": "string"
        },
        {
         "name": "LAST UPDATE",
         "rawType": "object",
         "type": "string"
        },
        {
         "name": "freq",
         "rawType": "object",
         "type": "string"
        },
        {
         "name": "unit",
         "rawType": "object",
         "type": "string"
        },
        {
         "name": "tra_meas",
         "rawType": "object",
         "type": "string"
        },
        {
         "name": "tra_cov",
         "rawType": "object",
         "type": "string"
        },
        {
         "name": "schedule",
         "rawType": "object",
         "type": "string"
        },
        {
         "name": "geo",
         "rawType": "object",
         "type": "string"
        },
        {
         "name": "TIME_PERIOD",
         "rawType": "object",
         "type": "string"
        },
        {
         "name": "OBS_VALUE",
         "rawType": "int64",
         "type": "integer"
        },
        {
         "name": "OBS_FLAG",
         "rawType": "float64",
         "type": "float"
        },
        {
         "name": "CONF_STATUS",
         "rawType": "float64",
         "type": "float"
        }
       ],
       "conversionMethod": "pd.DataFrame",
       "ref": "c9f7f6d1-77d8-4ee0-86df-2b64970d7eca",
       "rows": [
        [
         "0",
         "ESTAT:AVIA_PAOC(1.0)",
         "15/05/25 11:00:00",
         "Monthly",
         "Passenger",
         "Passengers on board",
         "Total transport",
         "Total",
         "Austria",
         "2002-01",
         "935901",
         null,
         null
        ],
        [
         "1",
         "ESTAT:AVIA_PAOC(1.0)",
         "15/05/25 11:00:00",
         "Monthly",
         "Passenger",
         "Passengers on board",
         "Total transport",
         "Total",
         "Austria",
         "2002-02",
         "966771",
         null,
         null
        ],
        [
         "2",
         "ESTAT:AVIA_PAOC(1.0)",
         "15/05/25 11:00:00",
         "Monthly",
         "Passenger",
         "Passengers on board",
         "Total transport",
         "Total",
         "Austria",
         "2002-03",
         "1184268",
         null,
         null
        ],
        [
         "3",
         "ESTAT:AVIA_PAOC(1.0)",
         "15/05/25 11:00:00",
         "Monthly",
         "Passenger",
         "Passengers on board",
         "Total transport",
         "Total",
         "Austria",
         "2002-04",
         "1143982",
         null,
         null
        ],
        [
         "4",
         "ESTAT:AVIA_PAOC(1.0)",
         "15/05/25 11:00:00",
         "Monthly",
         "Passenger",
         "Passengers on board",
         "Total transport",
         "Total",
         "Austria",
         "2002-05",
         "1326116",
         null,
         null
        ]
       ],
       "shape": {
        "columns": 12,
        "rows": 5
       }
      },
      "text/html": [
       "<div>\n",
       "<style scoped>\n",
       "    .dataframe tbody tr th:only-of-type {\n",
       "        vertical-align: middle;\n",
       "    }\n",
       "\n",
       "    .dataframe tbody tr th {\n",
       "        vertical-align: top;\n",
       "    }\n",
       "\n",
       "    .dataframe thead th {\n",
       "        text-align: right;\n",
       "    }\n",
       "</style>\n",
       "<table border=\"1\" class=\"dataframe\">\n",
       "  <thead>\n",
       "    <tr style=\"text-align: right;\">\n",
       "      <th></th>\n",
       "      <th>DATAFLOW</th>\n",
       "      <th>LAST UPDATE</th>\n",
       "      <th>freq</th>\n",
       "      <th>unit</th>\n",
       "      <th>tra_meas</th>\n",
       "      <th>tra_cov</th>\n",
       "      <th>schedule</th>\n",
       "      <th>geo</th>\n",
       "      <th>TIME_PERIOD</th>\n",
       "      <th>OBS_VALUE</th>\n",
       "      <th>OBS_FLAG</th>\n",
       "      <th>CONF_STATUS</th>\n",
       "    </tr>\n",
       "  </thead>\n",
       "  <tbody>\n",
       "    <tr>\n",
       "      <th>0</th>\n",
       "      <td>ESTAT:AVIA_PAOC(1.0)</td>\n",
       "      <td>15/05/25 11:00:00</td>\n",
       "      <td>Monthly</td>\n",
       "      <td>Passenger</td>\n",
       "      <td>Passengers on board</td>\n",
       "      <td>Total transport</td>\n",
       "      <td>Total</td>\n",
       "      <td>Austria</td>\n",
       "      <td>2002-01</td>\n",
       "      <td>935901</td>\n",
       "      <td>NaN</td>\n",
       "      <td>NaN</td>\n",
       "    </tr>\n",
       "    <tr>\n",
       "      <th>1</th>\n",
       "      <td>ESTAT:AVIA_PAOC(1.0)</td>\n",
       "      <td>15/05/25 11:00:00</td>\n",
       "      <td>Monthly</td>\n",
       "      <td>Passenger</td>\n",
       "      <td>Passengers on board</td>\n",
       "      <td>Total transport</td>\n",
       "      <td>Total</td>\n",
       "      <td>Austria</td>\n",
       "      <td>2002-02</td>\n",
       "      <td>966771</td>\n",
       "      <td>NaN</td>\n",
       "      <td>NaN</td>\n",
       "    </tr>\n",
       "    <tr>\n",
       "      <th>2</th>\n",
       "      <td>ESTAT:AVIA_PAOC(1.0)</td>\n",
       "      <td>15/05/25 11:00:00</td>\n",
       "      <td>Monthly</td>\n",
       "      <td>Passenger</td>\n",
       "      <td>Passengers on board</td>\n",
       "      <td>Total transport</td>\n",
       "      <td>Total</td>\n",
       "      <td>Austria</td>\n",
       "      <td>2002-03</td>\n",
       "      <td>1184268</td>\n",
       "      <td>NaN</td>\n",
       "      <td>NaN</td>\n",
       "    </tr>\n",
       "    <tr>\n",
       "      <th>3</th>\n",
       "      <td>ESTAT:AVIA_PAOC(1.0)</td>\n",
       "      <td>15/05/25 11:00:00</td>\n",
       "      <td>Monthly</td>\n",
       "      <td>Passenger</td>\n",
       "      <td>Passengers on board</td>\n",
       "      <td>Total transport</td>\n",
       "      <td>Total</td>\n",
       "      <td>Austria</td>\n",
       "      <td>2002-04</td>\n",
       "      <td>1143982</td>\n",
       "      <td>NaN</td>\n",
       "      <td>NaN</td>\n",
       "    </tr>\n",
       "    <tr>\n",
       "      <th>4</th>\n",
       "      <td>ESTAT:AVIA_PAOC(1.0)</td>\n",
       "      <td>15/05/25 11:00:00</td>\n",
       "      <td>Monthly</td>\n",
       "      <td>Passenger</td>\n",
       "      <td>Passengers on board</td>\n",
       "      <td>Total transport</td>\n",
       "      <td>Total</td>\n",
       "      <td>Austria</td>\n",
       "      <td>2002-05</td>\n",
       "      <td>1326116</td>\n",
       "      <td>NaN</td>\n",
       "      <td>NaN</td>\n",
       "    </tr>\n",
       "  </tbody>\n",
       "</table>\n",
       "</div>"
      ],
      "text/plain": [
       "               DATAFLOW        LAST UPDATE     freq       unit  \\\n",
       "0  ESTAT:AVIA_PAOC(1.0)  15/05/25 11:00:00  Monthly  Passenger   \n",
       "1  ESTAT:AVIA_PAOC(1.0)  15/05/25 11:00:00  Monthly  Passenger   \n",
       "2  ESTAT:AVIA_PAOC(1.0)  15/05/25 11:00:00  Monthly  Passenger   \n",
       "3  ESTAT:AVIA_PAOC(1.0)  15/05/25 11:00:00  Monthly  Passenger   \n",
       "4  ESTAT:AVIA_PAOC(1.0)  15/05/25 11:00:00  Monthly  Passenger   \n",
       "\n",
       "              tra_meas          tra_cov schedule      geo TIME_PERIOD  \\\n",
       "0  Passengers on board  Total transport    Total  Austria     2002-01   \n",
       "1  Passengers on board  Total transport    Total  Austria     2002-02   \n",
       "2  Passengers on board  Total transport    Total  Austria     2002-03   \n",
       "3  Passengers on board  Total transport    Total  Austria     2002-04   \n",
       "4  Passengers on board  Total transport    Total  Austria     2002-05   \n",
       "\n",
       "   OBS_VALUE  OBS_FLAG  CONF_STATUS  \n",
       "0     935901       NaN          NaN  \n",
       "1     966771       NaN          NaN  \n",
       "2    1184268       NaN          NaN  \n",
       "3    1143982       NaN          NaN  \n",
       "4    1326116       NaN          NaN  "
      ]
     },
     "execution_count": 5,
     "metadata": {},
     "output_type": "execute_result"
    }
   ],
   "source": [
    "air.head()"
   ]
  },
  {
   "cell_type": "code",
   "execution_count": 7,
   "id": "e7b73c28",
   "metadata": {},
   "outputs": [],
   "source": [
    "air['TIME_PERIOD'] = pd.to_datetime(air['TIME_PERIOD'])"
   ]
  },
  {
   "cell_type": "code",
   "execution_count": 9,
   "id": "2156335c",
   "metadata": {},
   "outputs": [],
   "source": [
    "air = air.set_index(air['TIME_PERIOD'])"
   ]
  },
  {
   "cell_type": "code",
   "execution_count": 10,
   "id": "b50c5705",
   "metadata": {},
   "outputs": [],
   "source": [
    "air_germany = air[air['geo'] == 'Germany']"
   ]
  },
  {
   "cell_type": "code",
   "execution_count": 13,
   "id": "74f31cf4",
   "metadata": {},
   "outputs": [
    {
     "data": {
      "text/plain": [
       "DatetimeIndex(['2002-01-01', '2002-02-01', '2002-03-01', '2002-04-01',\n",
       "               '2002-05-01', '2002-06-01', '2002-07-01', '2002-08-01',\n",
       "               '2002-09-01', '2002-10-01',\n",
       "               ...\n",
       "               '2024-04-01', '2024-05-01', '2024-06-01', '2024-07-01',\n",
       "               '2024-08-01', '2024-09-01', '2024-10-01', '2024-11-01',\n",
       "               '2024-12-01', '2025-01-01'],\n",
       "              dtype='datetime64[ns]', name='TIME_PERIOD', length=1662, freq=None)"
      ]
     },
     "execution_count": 13,
     "metadata": {},
     "output_type": "execute_result"
    }
   ],
   "source": [
    "air_germany.index"
   ]
  },
  {
   "cell_type": "code",
   "execution_count": null,
   "id": "91d6b6a7",
   "metadata": {},
   "outputs": [],
   "source": []
  },
  {
   "cell_type": "code",
   "execution_count": null,
   "id": "f730fa72",
   "metadata": {},
   "outputs": [],
   "source": []
  },
  {
   "cell_type": "code",
   "execution_count": null,
   "id": "94555709",
   "metadata": {},
   "outputs": [],
   "source": []
  }
 ],
 "metadata": {
  "kernelspec": {
   "display_name": "airpassenger",
   "language": "python",
   "name": "python3"
  },
  "language_info": {
   "codemirror_mode": {
    "name": "ipython",
    "version": 3
   },
   "file_extension": ".py",
   "mimetype": "text/x-python",
   "name": "python",
   "nbconvert_exporter": "python",
   "pygments_lexer": "ipython3",
   "version": "3.10.7"
  }
 },
 "nbformat": 4,
 "nbformat_minor": 5
}
